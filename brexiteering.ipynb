{
 "cells": [
  {
   "cell_type": "markdown",
   "metadata": {},
   "source": [
    "# Brexit - the data analysis\n",
    "\n",
    "We start, as usual, by importing all the libraries we need."
   ]
  },
  {
   "cell_type": "code",
   "execution_count": null,
   "metadata": {},
   "outputs": [],
   "source": [
    "# Import Numpy library, rename as \"np\"\n",
    "import numpy as np\n",
    "# Import Pandas library, rename as \"pd\"\n",
    "import pandas as pd\n",
    "\n",
    "# Set up plotting\n",
    "import matplotlib.pyplot as plt\n",
    "%matplotlib inline\n",
    "plt.style.use('fivethirtyeight')"
   ]
  },
  {
   "cell_type": "markdown",
   "metadata": {},
   "source": [
    "Then load the test library to run the tests for your answers."
   ]
  },
  {
   "cell_type": "code",
   "execution_count": null,
   "metadata": {},
   "outputs": [],
   "source": [
    "# Load the OKpy test library and tests.\n",
    "from client.api.notebook import Notebook\n",
    "ok = Notebook('brexiteering.ok')"
   ]
  },
  {
   "cell_type": "markdown",
   "metadata": {},
   "source": [
    "## All about the Brexiteers\n",
    "\n",
    "Every year, the [Hansard\n",
    "Society](https://www.hansardsociety.org.uk/research/audit-of-political-engagement)\n",
    "sponsors a survey on political engagement in the UK.\n",
    "\n",
    "They put topical questions in each survey.  For the 2016 / 7 survey, they\n",
    "asked about how people voted in the Brexit referendum.\n",
    "\n",
    "Luckily, they make the data freely available online for us to analyze.\n",
    "\n",
    "You can get the data for yourself from the UK Data Service:\n",
    "[if you want](https://discover.ukdataservice.ac.uk/catalogue/?sn=8183).\n",
    "There are data files in various formats, including:\n",
    "\n",
    "* SPSS format (for the SPSS statistical package);\n",
    "* Stata format (for the Stata statistical package);\n",
    "* tab-delimited (a general data format, that can be used with Pandas, Excel,\n",
    "  and other packages).\n",
    "\n",
    "The data is in a standard form, with one row per respondent, and one column\n",
    "per question.\n",
    "\n",
    "To save you a tiny bit of work, I have made an unchanged copy of the\n",
    "tab-delimited version of the data file for you to download directly. I have\n",
    "also made a copy of the document describing the questions they ask and the way\n",
    "that they have recorded the answers in the data file.  This is often called\n",
    "the “data dictionary”.  It was originally in Rich Text Format, but I have\n",
    "converted to PDF for convenience.  It is otherwise identical to the file you\n",
    "will find at the UK Data Service.\n",
    "\n",
    "You can download these copies from the following links:\n",
    "\n",
    "* [tab-delimited data file](https://matthew-brett.github.io/cfd2019/data/audit_of_political_engagement_14_2017.tab);\n",
    "* [data dictionary PDF file](https://matthew-brett.github.io/cfd2019/data/audit_of_political_engagement_14_2017_ukda_data_dictionary.pdf).\n",
    "\n",
    "If you are running this notebook on your laptop, download the tab-delimited\n",
    "data file to the same directory as the notebook.\n",
    "\n",
    "In the moment, we are going to try and analyze these data.  We will focus on\n",
    "two questions labeled `cut15` and `numage`.  `cut15` is the question about\n",
    "Brexit. The data dictionary has the *variable label* “CUT15 - How did you vote\n",
    "on the question ‘Should the United Kingdom remain a member of the European\n",
    "Union or leave the European Union’?”.  The recorded values run from 1 through\n",
    "6 and have the following labels:\n",
    "\n",
    "```\n",
    "Value label information for cut15\n",
    "Value = 1.0    Label = Remain a member of the European Union\n",
    "Value = 2.0    Label = Leave the European Union\n",
    "Value = 3.0    Label = Did not vote\n",
    "Value = 4.0    Label = Too young\n",
    "Value = 5.0    Label = Can't remember\n",
    "Value = 6.0    Label = Refused\n",
    "```\n",
    "\n",
    "We also want the variable `numage`; this is the age of the respondent in years."
   ]
  },
  {
   "cell_type": "markdown",
   "metadata": {},
   "source": [
    "The data file that you just downloaded should be called\n",
    "`audit_of_political_engagement_14_2017.tab`.  The cell below loads the data\n",
    "file into memory with Pandas:"
   ]
  },
  {
   "cell_type": "code",
   "execution_count": null,
   "metadata": {},
   "outputs": [],
   "source": [
    "# Load the data frame, and put it in the variable \"audit_data\"\n",
    "audit_data = pd.read_table('audit_of_political_engagement_14_2017.tab')"
   ]
  },
  {
   "cell_type": "markdown",
   "metadata": {},
   "source": [
    "As you know, we now have a *data frame*:"
   ]
  },
  {
   "cell_type": "code",
   "execution_count": null,
   "metadata": {},
   "outputs": [],
   "source": [
    "type(audit_data)"
   ]
  },
  {
   "cell_type": "markdown",
   "metadata": {},
   "source": [
    "The data frame has one row per person surveyed, and one column for each\n",
    "question in the survey.  The columns have kind-of helpful names that you can\n",
    "read about in the data dictionary:"
   ]
  },
  {
   "cell_type": "code",
   "execution_count": null,
   "metadata": {},
   "outputs": [],
   "source": [
    "# Show the top five rows of the data frame.\n",
    "audit_data.head()"
   ]
  },
  {
   "cell_type": "markdown",
   "metadata": {},
   "source": [
    "The data frame has columns for all the questions listed in the data\n",
    "dictionary:"
   ]
  },
  {
   "cell_type": "code",
   "execution_count": null,
   "metadata": {},
   "outputs": [],
   "source": [
    "audit_data.columns"
   ]
  },
  {
   "cell_type": "markdown",
   "metadata": {},
   "source": [
    "To reduce clutter, we first make a new data frame that just has the two\n",
    "questions we are interested in:\n"
   ]
  },
  {
   "cell_type": "code",
   "execution_count": null,
   "metadata": {},
   "outputs": [],
   "source": [
    "# Select the age and Brexit vote questions only\n",
    "mini_brexit = pd.DataFrame()\n",
    "mini_brexit['numage'] = audit_data['numage']\n",
    "mini_brexit['cut15'] = audit_data['cut15']\n",
    "mini_brexit.head()"
   ]
  },
  {
   "cell_type": "markdown",
   "metadata": {},
   "source": [
    "To get started on exploring, we make a new variable `ages` that refers\n",
    "to the `numage` column in the `mini_brexit` data frame."
   ]
  },
  {
   "cell_type": "code",
   "execution_count": null,
   "metadata": {},
   "outputs": [],
   "source": [
    "# Make a new variable \"ages\" that refers to the \"numage\" column in\n",
    "# \"mini_brexit\"\n",
    "ages = mini_brexit[\"numage\"]"
   ]
  },
  {
   "cell_type": "markdown",
   "metadata": {},
   "source": [
    "Confirm that `ages` has a value of type `Series`, the Pandas type for a column of a data frame:"
   ]
  },
  {
   "cell_type": "code",
   "execution_count": null,
   "metadata": {},
   "outputs": [],
   "source": [
    "type(ages)"
   ]
  },
  {
   "cell_type": "markdown",
   "metadata": {},
   "source": [
    "Here are the numbers of rows, columns in the original data frame:"
   ]
  },
  {
   "cell_type": "code",
   "execution_count": null,
   "metadata": {},
   "outputs": [],
   "source": [
    "audit_data.shape"
   ]
  },
  {
   "cell_type": "markdown",
   "metadata": {},
   "source": [
    "Run the cell below to confirm that `ages` has the same number of values, as\n",
    "`audit_data` has rows.  To do this, we can use the `len` function, as applied\n",
    "to the `ages` Series.  It returns the number of values."
   ]
  },
  {
   "cell_type": "code",
   "execution_count": null,
   "metadata": {},
   "outputs": [],
   "source": [
    "len(ages)"
   ]
  },
  {
   "cell_type": "markdown",
   "metadata": {},
   "source": [
    "In fact, `len`, as applied to the *data frame*, returns the number of rows:"
   ]
  },
  {
   "cell_type": "code",
   "execution_count": null,
   "metadata": {},
   "outputs": [],
   "source": [
    "len(audit_data)"
   ]
  },
  {
   "cell_type": "markdown",
   "metadata": {},
   "source": [
    "Start by doing a histogram of the values in `ages` (which are also the values\n",
    "in the `numage` column of `mini_brexit`).  If you can't remember how to do\n",
    "histograms, have a look at the [introduction to data\n",
    "frames](https://matthew-brett.github.io/cfd2019/chapters/04/data_frame_intro)\n",
    "notebook.   Hint: consider using the `hist`\n",
    "method of the `ages` variable."
   ]
  },
  {
   "cell_type": "code",
   "execution_count": null,
   "metadata": {},
   "outputs": [],
   "source": [
    "#- Do a histogram of the values in the \"numage\" column.\n",
    "#- Your code here."
   ]
  },
  {
   "cell_type": "markdown",
   "metadata": {},
   "source": [
    "You will see that a few subjects have an age of 0.\n",
    "\n",
    "It looks as if the survey coders are using the value 0 to mean that the person\n",
    "did not state their age.  We will have to clean that up.  We do that by\n",
    "selecting the cases that have ages not equal to 0."
   ]
  },
  {
   "cell_type": "markdown",
   "metadata": {},
   "source": [
    "Hint:  You have seen the operator to say whether two values are equal or no:"
   ]
  },
  {
   "cell_type": "code",
   "execution_count": null,
   "metadata": {},
   "outputs": [],
   "source": [
    "1 == 2"
   ]
  },
  {
   "cell_type": "code",
   "execution_count": null,
   "metadata": {},
   "outputs": [],
   "source": [
    "2 == 2"
   ]
  },
  {
   "cell_type": "markdown",
   "metadata": {},
   "source": [
    "The operator for *not equal* is `!=`, as in:"
   ]
  },
  {
   "cell_type": "code",
   "execution_count": null,
   "metadata": {},
   "outputs": [],
   "source": [
    "1 != 2"
   ]
  },
  {
   "cell_type": "markdown",
   "metadata": {},
   "source": [
    "Prepare for brain-bending double negative..."
   ]
  },
  {
   "cell_type": "code",
   "execution_count": null,
   "metadata": {},
   "outputs": [],
   "source": [
    "2 != 2"
   ]
  },
  {
   "cell_type": "markdown",
   "metadata": {},
   "source": [
    "To identify the values in `ages` that are *not equal* to 0, use the comparison\n",
    "I've hinted at above, to make a new variable, `age_not_0`, that has the same\n",
    "number of values as `ages`, and has `True` at positions where `ages` is *not\n",
    "equal* to 0, and `False` otherwise.   We will refer to these sequences of True\n",
    "and False values, as *Boolean vectors*.\n",
    "\n",
    "Check back to the [introduction to data frames](../04/data_frame_intro)\n",
    "notebook for a reminder of making and using Boolean vectors to select rows\n",
    "from data frames."
   ]
  },
  {
   "cell_type": "code",
   "execution_count": null,
   "metadata": {},
   "outputs": [],
   "source": [
    "#- Create new variable \"age_not_0\", with True at positions where \"ages\" is not\n",
    "#- equal to 0, and False otherwise.\n",
    "age_not_0 = ...\n",
    "age_not_0"
   ]
  },
  {
   "cell_type": "code",
   "execution_count": null,
   "metadata": {
    "lines_to_next_cell": 2
   },
   "outputs": [],
   "source": [
    "_ = ok.grade('q_age_not_0')"
   ]
  },
  {
   "cell_type": "markdown",
   "metadata": {},
   "source": [
    "Use `age_not_0` to select rows in the `mini_brexit` data frame where the value\n",
    "is `True`, and throw away the rows where the value is `False`."
   ]
  },
  {
   "cell_type": "code",
   "execution_count": null,
   "metadata": {},
   "outputs": [],
   "source": [
    "#- Select rows in the data frame where the age is not equal to 0.\n",
    "good_brexit = ...\n",
    "good_brexit"
   ]
  },
  {
   "cell_type": "code",
   "execution_count": null,
   "metadata": {
    "lines_to_next_cell": 2
   },
   "outputs": [],
   "source": [
    "_ = ok.grade('q_good_brexit')"
   ]
  },
  {
   "cell_type": "markdown",
   "metadata": {},
   "source": [
    "Now we want to ask what proportion of the respondents said that they voted\n",
    "Remain or Leave.\n",
    "\n",
    "We begin by making a new data frame that contains only the rows for people who\n",
    "said they voted No in the referendum (remain).  Remember, from the data\n",
    "dictionary, that 1 is the code for a No vote.\n",
    "\n",
    "First, make a new variable `votes` that has the values of `cut15` column of\n",
    "the `good_brexit` data frame."
   ]
  },
  {
   "cell_type": "code",
   "execution_count": null,
   "metadata": {},
   "outputs": [],
   "source": [
    "votes = ...\n",
    "votes"
   ]
  },
  {
   "cell_type": "code",
   "execution_count": null,
   "metadata": {
    "lines_to_next_cell": 2
   },
   "outputs": [],
   "source": [
    "_ = ok.grade('q_votes')"
   ]
  },
  {
   "cell_type": "markdown",
   "metadata": {},
   "source": [
    "Now make a new Boolean vector, that has True at the positions where `votes` is\n",
    "equal to 1, and False otherwise.  Call this variable `is_remain`."
   ]
  },
  {
   "cell_type": "code",
   "execution_count": null,
   "metadata": {},
   "outputs": [],
   "source": [
    "is_remain = ..."
   ]
  },
  {
   "cell_type": "code",
   "execution_count": null,
   "metadata": {
    "lines_to_next_cell": 2
   },
   "outputs": [],
   "source": [
    "_ = ok.grade('q_is_remain')"
   ]
  },
  {
   "cell_type": "markdown",
   "metadata": {},
   "source": [
    "Next, use `is_remain` to select the rows in `good_brexit` that correspond to\n",
    "confessed \"Remain\" voters.  Call the new data frame `remainers`:"
   ]
  },
  {
   "cell_type": "code",
   "execution_count": null,
   "metadata": {},
   "outputs": [],
   "source": [
    "remainers = ...\n",
    "remainers"
   ]
  },
  {
   "cell_type": "code",
   "execution_count": null,
   "metadata": {
    "lines_to_next_cell": 2
   },
   "outputs": [],
   "source": [
    "_ = ok.grade('q_remainers')"
   ]
  },
  {
   "cell_type": "markdown",
   "metadata": {},
   "source": [
    "Do a histogram of the values in the `numage` column of `remainers`:"
   ]
  },
  {
   "cell_type": "code",
   "execution_count": null,
   "metadata": {},
   "outputs": [],
   "source": [
    "#- Show a histogram of the `numage` column from `remainers`"
   ]
  },
  {
   "cell_type": "markdown",
   "metadata": {},
   "source": [
    "Next, go through the same steps, to make a new data frame for those who\n",
    "claimed to vote Yes (leave) (code 2):"
   ]
  },
  {
   "cell_type": "code",
   "execution_count": null,
   "metadata": {},
   "outputs": [],
   "source": [
    "#- Make a Boolean vector, called \"is_leave\", that True for Leave row, False\n",
    "#- otherwise.\n",
    "is_leave = ..."
   ]
  },
  {
   "cell_type": "code",
   "execution_count": null,
   "metadata": {
    "lines_to_next_cell": 2
   },
   "outputs": [],
   "source": [
    "_ = ok.grade('q_is_leave')"
   ]
  },
  {
   "cell_type": "markdown",
   "metadata": {},
   "source": [
    "Next, use `is_leave` to select the rows in `good_brexit` that correspond to\n",
    "confessed \"Leave\" voters.  Call the new data frame `leavers`:"
   ]
  },
  {
   "cell_type": "code",
   "execution_count": null,
   "metadata": {},
   "outputs": [],
   "source": [
    "leavers = ..."
   ]
  },
  {
   "cell_type": "code",
   "execution_count": null,
   "metadata": {
    "lines_to_next_cell": 2
   },
   "outputs": [],
   "source": [
    "_ = ok.grade('q_leavers')"
   ]
  },
  {
   "cell_type": "markdown",
   "metadata": {},
   "source": [
    "Do a histogram of the values in the `numage` column of `leavers`:"
   ]
  },
  {
   "cell_type": "code",
   "execution_count": null,
   "metadata": {},
   "outputs": [],
   "source": [
    "#- Show a histogram of the `numage` column from `remainers`"
   ]
  },
  {
   "cell_type": "markdown",
   "metadata": {},
   "source": [
    "Here is the total number of Remain voters:"
   ]
  },
  {
   "cell_type": "code",
   "execution_count": null,
   "metadata": {},
   "outputs": [],
   "source": [
    "n_remain = len(remainers)\n",
    "n_remain"
   ]
  },
  {
   "cell_type": "markdown",
   "metadata": {},
   "source": [
    "Here is the total number of Leave voters:"
   ]
  },
  {
   "cell_type": "code",
   "execution_count": null,
   "metadata": {},
   "outputs": [],
   "source": [
    "n_leave = len(leavers)\n",
    "n_leave"
   ]
  },
  {
   "cell_type": "markdown",
   "metadata": {},
   "source": [
    "Here is the total number of voters who confessed to a specific Leave or Remain vote:"
   ]
  },
  {
   "cell_type": "code",
   "execution_count": null,
   "metadata": {},
   "outputs": [],
   "source": [
    "n_total = n_leave + n_remain\n",
    "n_total"
   ]
  },
  {
   "cell_type": "markdown",
   "metadata": {},
   "source": [
    "Here is the proportion of Leave voters:"
   ]
  },
  {
   "cell_type": "code",
   "execution_count": null,
   "metadata": {},
   "outputs": [],
   "source": [
    "leave_proportion = n_leave / n_total\n",
    "leave_proportion"
   ]
  },
  {
   "cell_type": "markdown",
   "metadata": {},
   "source": [
    "As you remember, the proportion of Leave voters in the referendum was 51.9%.\n",
    "`leave_proportion` from the survey seems a way off.  Is it too far off?\n",
    "\n",
    "You go back to the survey company and tell them that the proportion of Leave voters seems too low.\n",
    "\n",
    "They say the following:\n",
    "\n",
    "> We took a random sample of the population.  You are a data scientist, you\n",
    "> know well that the proportion from this random sample is very unlikely to be\n",
    "> exactly the same as the proportion in the whole population.  The proportion\n",
    "> we get is compatible with the variation we expect from taking a random\n",
    "> sample.\n",
    ">\n",
    "> In other words - the difference in the proportions, between the referendum\n",
    "> and the survey, is due to sampling error.\n",
    "\n",
    "Time for a simulation.\n",
    "\n",
    "The null hypothesis offered by the survey company is that the proportion we\n",
    "saw above is a plausible value if we took a random sample of `n_total` voters.\n",
    "\n",
    "We can simulate a new survey, with `n_total` voters, by taking `n_total`\n",
    "random numbers between 0 and 1.  We consider the values less than 0.52 as\n",
    "corresponding to a Leave vote, and the rest are Remain votes.  We then\n",
    "calculate the proportion of Leave votes (proportion of values where value <\n",
    "0\\.519 == True).\n",
    "\n",
    "We do this 10000 times, to get 10000 simulated surveys.  We calculate the\n",
    "proportions for each simulated survey, and do a histogram of the proportions.\n",
    "Is `leave_proportion` a plausible value on this histogram?\n",
    "\n",
    "See:\n",
    "\n",
    "* [Reply to the Supreme Court](https://matthew-brett.github.io/cfd2019/chapters/03/reply_supreme)\n",
    "* [Final three girls simulation](https://matthew-brett.github.io/cfd2019/chapters/03/filling_arrays)\n",
    "\n",
    "to remind yourself about simulations.\n",
    "\n",
    "Your simulation should calculate 10000 simulated proportions, and store them in an array called `simulated_proportion`."
   ]
  },
  {
   "cell_type": "code",
   "execution_count": null,
   "metadata": {},
   "outputs": [],
   "source": [
    "#- Your simulation here\n",
    "simulated_proportions = ...\n",
    "# Show the first 5 simulated_proportion values\n",
    "simulated_proportions[:5]"
   ]
  },
  {
   "cell_type": "code",
   "execution_count": null,
   "metadata": {},
   "outputs": [],
   "source": [
    "_ = ok.grade('q_simulated_proportions')"
   ]
  },
  {
   "cell_type": "markdown",
   "metadata": {},
   "source": [
    "Do a histogram of `simulated_proportions` below.  What do you think of the survey company's explanation?"
   ]
  },
  {
   "cell_type": "code",
   "execution_count": null,
   "metadata": {},
   "outputs": [],
   "source": [
    "plt.hist(simulated_proportions)"
   ]
  },
  {
   "cell_type": "markdown",
   "metadata": {},
   "source": [
    "## Done"
   ]
  },
  {
   "cell_type": "markdown",
   "metadata": {},
   "source": [
    "You're finished with the assignment!  Be sure to...\n",
    "\n",
    "- **run all the tests** (the next cell has a shortcut for that),\n",
    "- **Save and Checkpoint** from the  menu."
   ]
  },
  {
   "cell_type": "code",
   "execution_count": null,
   "metadata": {},
   "outputs": [],
   "source": [
    "# For your convenience, you can run this cell to run all the tests at once!\n",
    "import os\n",
    "_ = [ok.grade(q[:-3]) for q in os.listdir(\"tests\") if q.startswith('q')]"
   ]
  }
 ],
 "metadata": {
  "jupytext": {
   "text_representation": {
    "extension": ".Rmd",
    "format_name": "rmarkdown",
    "format_version": "1.1",
    "jupytext_version": "1.2.4"
   }
  },
  "kernelspec": {
   "display_name": "Python 3",
   "language": "python",
   "name": "python3"
  }
 },
 "nbformat": 4,
 "nbformat_minor": 2
}
